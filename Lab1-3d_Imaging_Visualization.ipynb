{
 "cells": [
  {
   "cell_type": "code",
   "execution_count": null,
   "metadata": {
    "id": "AJeuMtFOc6t1",
    "tags": []
   },
   "outputs": [],
   "source": [
    "# Import all the necessary packages\n",
    "import numpy as np\n",
    "import nibabel as nib    # Read / write access to some common neuroimaging file formats\n",
    "import matplotlib.pyplot as plt\n",
    "import matplotlib\n",
    "from PIL import Image\n",
    "\n",
    "%matplotlib inline\n",
    "import seaborn as sns\n",
    "sns.set_style('darkgrid')"
   ]
  },
  {
   "cell_type": "code",
   "execution_count": null,
   "metadata": {
    "tags": []
   },
   "outputs": [],
   "source": [
    "## Install missing package\n",
    "!pip install -r requirements.txt"
   ]
  },
  {
   "cell_type": "markdown",
   "metadata": {},
   "source": [
    "## Load data and inspect data dimensions"
   ]
  },
  {
   "cell_type": "code",
   "execution_count": null,
   "metadata": {
    "colab": {
     "base_uri": "https://localhost:8080/"
    },
    "id": "CL2wyEO9c7JL",
    "outputId": "0e48aaa9-bac1-4117-d4f2-3c5d424d5d8e",
    "tags": []
   },
   "outputs": [],
   "source": [
    "# Define the image path and load the data\n",
    "image_path = \"./data/images/BRATS_001.nii.gz\"\n",
    "image_obj = nib.load(image_path)\n",
    "print(f'Type of the image {type(image_obj)}')"
   ]
  },
  {
   "cell_type": "markdown",
   "metadata": {},
   "source": [
    "Nifti 1  Format: https://nifti.nimh.nih.gov/nifti-1"
   ]
  },
  {
   "cell_type": "code",
   "execution_count": null,
   "metadata": {
    "tags": []
   },
   "outputs": [],
   "source": [
    "# Header\n",
    "print(image_obj.header)"
   ]
  },
  {
   "cell_type": "code",
   "execution_count": null,
   "metadata": {
    "colab": {
     "base_uri": "https://localhost:8080/"
    },
    "id": "zW9tddELdRRX",
    "outputId": "eff98f08-4d50-4546-ef25-2e89a487848a",
    "tags": []
   },
   "outputs": [],
   "source": [
    "# Extract data as numpy ndarray\n",
    "image_data = image_obj.get_fdata()\n",
    "type(image_data)"
   ]
  },
  {
   "cell_type": "code",
   "execution_count": null,
   "metadata": {
    "tags": []
   },
   "outputs": [],
   "source": [
    "image_data.shape"
   ]
  },
  {
   "cell_type": "code",
   "execution_count": null,
   "metadata": {
    "colab": {
     "base_uri": "https://localhost:8080/"
    },
    "id": "elS4YQUJdShs",
    "outputId": "60a851de-3926-4fc6-f422-61e283c27ade",
    "tags": []
   },
   "outputs": [],
   "source": [
    "# Get the image shape and print it out\n",
    "height, width, depth, channels = image_data.shape\n",
    "print(f\"The image object has the following dimensions: height: {height}, width:{width}, depth:{depth}, channels:{channels}\")"
   ]
  },
  {
   "cell_type": "markdown",
   "metadata": {
    "tags": []
   },
   "source": [
    "## Explore the header, data, etc"
   ]
  },
  {
   "cell_type": "code",
   "execution_count": null,
   "metadata": {},
   "outputs": [],
   "source": [
    "?image_obj.header.from_header"
   ]
  },
  {
   "cell_type": "markdown",
   "metadata": {},
   "source": [
    "## Plot random image slices - execute same cell multiple times"
   ]
  },
  {
   "cell_type": "code",
   "execution_count": null,
   "metadata": {
    "colab": {
     "base_uri": "https://localhost:8080/",
     "height": 265
    },
    "id": "HBzqPnvjdT-x",
    "outputId": "999e2622-aff9-493f-e8ee-ec91d569ddb5"
   },
   "outputs": [],
   "source": [
    "# Select random layer number (RUN SEVERAL TIMES)\n",
    "maxval = 154\n",
    "i = np.random.randint(0, maxval)\n",
    "# Define a channel to look at\n",
    "channel = 2\n",
    "print(f\"Plotting Layer {i} Channel {channel} of Image\")\n",
    "plt.imshow(image_data[:, :, i, channel], cmap='gray')\n",
    "plt.axis('off');"
   ]
  },
  {
   "cell_type": "markdown",
   "metadata": {},
   "source": [
    "## Plot image slices - increasing layer numbers"
   ]
  },
  {
   "cell_type": "code",
   "execution_count": null,
   "metadata": {},
   "outputs": [],
   "source": [
    "layer = [50, 90, 100, 130]\n",
    "\n",
    "# Set up for plotting\n",
    "fig, ax = plt.subplots(nrows=1, ncols=4, figsize=(50, 30))\n",
    "for i in range(4):\n",
    "    ax[i].imshow(image_data[:, :, layer[i], 0], cmap='gray')\n",
    "    ax[i].set_title(f\"Layer {layer[i]}\", fontsize=45)\n",
    "    ax[i].axis('off')\n",
    "\n",
    "plt.axis('off')\n",
    "plt.tight_layout()"
   ]
  },
  {
   "cell_type": "markdown",
   "metadata": {},
   "source": [
    "**Task** (See Below)"
   ]
  },
  {
   "cell_type": "code",
   "execution_count": null,
   "metadata": {
    "tags": []
   },
   "outputs": [],
   "source": [
    "## ADD CODE TO GENERATE ANIMATION\n",
    "# 1. Generate several pngs\n",
    "# 2. in a different cell combine the pngs into a gif, you can use the python library Pillow (PIL)\n",
    "# Define a channel to look at"
   ]
  },
  {
   "cell_type": "markdown",
   "metadata": {},
   "source": [
    "## It should be similar to this animation"
   ]
  },
  {
   "cell_type": "code",
   "execution_count": null,
   "metadata": {},
   "outputs": [],
   "source": [
    "from IPython.display import Image\n",
    "Image(url='animation_example.gif')  "
   ]
  },
  {
   "cell_type": "code",
   "execution_count": null,
   "metadata": {
    "tags": []
   },
   "outputs": [],
   "source": [
    "## Use this cell for the animation\n",
    "# tip: use PIL\n",
    "# I used something like this\n",
    "#with Image.open(filepaths[0]) as img:\n",
    "#    img.save('animation.gif', save_all=True, append_images=[Image.open(fp) for fp in filepaths[1:]], duration=80, loop=0)"
   ]
  },
  {
   "cell_type": "markdown",
   "metadata": {},
   "source": [
    "## Load labels for the same MRI data"
   ]
  },
  {
   "cell_type": "code",
   "execution_count": null,
   "metadata": {
    "colab": {
     "base_uri": "https://localhost:8080/"
    },
    "id": "e3uEDOk3dWaD",
    "outputId": "3f74bc08-e3a6-441c-9458-2c3fb775bb66"
   },
   "outputs": [],
   "source": [
    "# Define the data path and load the data\n",
    "label_path = \"./data/labels/BRATS_001.nii.gz\"\n",
    "label_obj = nib.load(label_path)\n",
    "type(label_obj)"
   ]
  },
  {
   "cell_type": "code",
   "execution_count": null,
   "metadata": {
    "colab": {
     "base_uri": "https://localhost:8080/"
    },
    "id": "izz1yE0adXuj",
    "outputId": "c319628f-7e8d-4461-90d1-c0fab0fe3ce4"
   },
   "outputs": [],
   "source": [
    "# Extract data labels\n",
    "label_array = label_obj.get_fdata()\n",
    "type(label_array)"
   ]
  },
  {
   "cell_type": "code",
   "execution_count": null,
   "metadata": {
    "colab": {
     "base_uri": "https://localhost:8080/"
    },
    "id": "g8cx_4B-dZJm",
    "outputId": "68e7f401-8ff9-432d-9f70-97b94fc25787"
   },
   "outputs": [],
   "source": [
    "# Extract and print out the shape of the labels data\n",
    "height, width, depth = label_array.shape\n",
    "print(f\"Dimensions of labels data array height: {height}, width: {width}, depth: {depth}\")\n",
    "print(f'With the unique values: {np.unique(label_array)}')\n",
    "print(\"\"\"Corresponding to the following label categories: \n",
    "0: for normal \n",
    "1: for edema\n",
    "2: for non-enhancing tumor \n",
    "3: for enhancing tumor\"\"\")"
   ]
  },
  {
   "cell_type": "markdown",
   "metadata": {},
   "source": [
    "## Visualize single layer with corresponding labels"
   ]
  },
  {
   "cell_type": "code",
   "execution_count": null,
   "metadata": {
    "colab": {
     "base_uri": "https://localhost:8080/",
     "height": 775
    },
    "id": "hrLzFYiGdaeH",
    "outputId": "1637f979-4495-48d2-e6e1-6ad38a734fb9"
   },
   "outputs": [],
   "source": [
    "# Define a single layer for plotting\n",
    "layer = 60\n",
    "\n",
    "# Define a dictionary of class labels\n",
    "classes_dict = {\n",
    "    'Normal': 0.,\n",
    "    'Edema': 1.,\n",
    "    'Non-enhancing tumor': 2.,\n",
    "    'Enhancing tumor': 3. \n",
    "}\n",
    "\n",
    "# Set up for plotting\n",
    "fig, ax = plt.subplots(nrows=1, ncols=4, figsize=(50, 30))\n",
    "for i in range(4):\n",
    "    img_label_str = list(classes_dict.keys())[i]\n",
    "    img = label_array[:,:,layer]\n",
    "    mask = np.where(img == classes_dict[img_label_str], 255, 0)\n",
    "    ax[i].imshow(mask)\n",
    "    ax[i].set_title(f\"Layer {layer} for {img_label_str}\", fontsize=45)\n",
    "    ax[i].axis('off')\n",
    "plt.tight_layout()"
   ]
  },
  {
   "cell_type": "markdown",
   "metadata": {},
   "source": [
    "## Combine the 4 binary masks into a single 4-color segmented image"
   ]
  },
  {
   "cell_type": "code",
   "execution_count": null,
   "metadata": {},
   "outputs": [],
   "source": [
    "# Define a single layer for plotting\n",
    "layer = 60\n",
    "\n",
    "# Define a dictionary of class labels\n",
    "classes_dict = {\n",
    "    'Normal': 0.,\n",
    "    'Edema': 1.,\n",
    "    'Non-enhancing tumor': 2.,\n",
    "    'Enhancing tumor': 3. \n",
    "}\n",
    "\n",
    "# Set up for plotting\n",
    "fig, ax = plt.subplots(nrows=1, ncols=1, figsize=(10, 10))\n",
    "from matplotlib.colors import ListedColormap\n",
    "# Let's also design our color mapping: 1s should be plotted in blue, 2s in red, etc...\n",
    "col_dict={\n",
    "    0: \"black\",\n",
    "    1: \"red\",\n",
    "    2: \"orange\",\n",
    "    3: \"green\"\n",
    "}\n",
    "# We create a colormar from our list of colors\n",
    "cmap = ListedColormap([col_dict[x] for x in col_dict.keys()])\n",
    "\n",
    "# isolate labels for chosen layer\n",
    "layer_labels = label_array[:,:,layer]\n",
    "\n",
    "# plot image\n",
    "im = ax.imshow(layer_labels, cmap=cmap)\n",
    "ax.set_title(f\"Layer {layer}\", fontsize=45)\n",
    "ax.axis('off')\n",
    "plt.tight_layout()"
   ]
  },
  {
   "cell_type": "markdown",
   "metadata": {},
   "source": [
    "## Visualize 4-color segmented image over multiple layers "
   ]
  },
  {
   "cell_type": "markdown",
   "metadata": {},
   "source": [
    "**Task** (See Below)"
   ]
  },
  {
   "cell_type": "code",
   "execution_count": null,
   "metadata": {},
   "outputs": [],
   "source": [
    "layer = [40, 50, 60, 70]\n",
    "fig, ax = plt.subplots(nrows=1, ncols=4, figsize=(50, 30))\n",
    "\n",
    "# write code here to make a 1x4 panel plot\n",
    "\n",
    "plt.tight_layout()"
   ]
  },
  {
   "cell_type": "code",
   "execution_count": null,
   "metadata": {},
   "outputs": [],
   "source": [
    "## Done!"
   ]
  }
 ],
 "metadata": {
  "colab": {
   "name": "BIOE488_MP1-3d-imaging.ipynb",
   "provenance": []
  },
  "kernelspec": {
   "display_name": "Python 3 (ipykernel)",
   "language": "python",
   "name": "python3"
  },
  "language_info": {
   "codemirror_mode": {
    "name": "ipython",
    "version": 3
   },
   "file_extension": ".py",
   "mimetype": "text/x-python",
   "name": "python",
   "nbconvert_exporter": "python",
   "pygments_lexer": "ipython3",
   "version": "3.12.4"
  },
  "vscode": {
   "interpreter": {
    "hash": "353902f3f2f769574ee6d5e609f500cb3c8385ac61494244183cc0b6ad3e28b3"
   }
  },
  "widgets": {
   "application/vnd.jupyter.widget-state+json": {
    "283561e27b174ecf8e0127af3895516c": {
     "model_module": "@jupyter-widgets/output",
     "model_module_version": "1.0.0",
     "model_name": "OutputModel",
     "state": {
      "_dom_classes": [],
      "_model_module": "@jupyter-widgets/output",
      "_model_module_version": "1.0.0",
      "_model_name": "OutputModel",
      "_view_count": null,
      "_view_module": "@jupyter-widgets/output",
      "_view_module_version": "1.0.0",
      "_view_name": "OutputView",
      "layout": "IPY_MODEL_ef2a24916d234ca8937f5cbccdf4eb07",
      "msg_id": "",
      "outputs": [
       {
        "name": "stdout",
        "output_type": "stream",
        "text": [
         "Plotting 0 Layer Label: Normal\n"
        ]
       },
       {
        "data": {
         "image/png": "iVBORw0KGgoAAAANSUhEUgAAAR4AAAEeCAYAAABcyXrWAAAABHNCSVQICAgIfAhkiAAAAAlwSFlzAAALEgAACxIB0t1+/AAAADh0RVh0U29mdHdhcmUAbWF0cGxvdGxpYiB2ZXJzaW9uMy4yLjIsIGh0dHA6Ly9tYXRwbG90bGliLm9yZy+WH4yJAAADsElEQVR4nO3asQ2AMAwAQYKy/8pmg5SPBHetG1cvF14zMxdA6H57AeB/hAfICQ+QEx4gJzxATniA3D4N11rVHsDHnD51XDxATniAnPAAOeEBcsID5IQHyAkPkBMeICc8QE54gJzwADnhAXLCA+SEB8gJD5ATHiAnPEBOeICc8AA54QFywgPkhAfICQ+QEx4gJzxATniAnPAAOeEBcsID5IQHyAkPkBMeICc8QE54gJzwADnhAXLCA+SEB8gJD5ATHiAnPEBOeICc8AA54QFywgPkhAfICQ+QEx4gJzxATniAnPAAOeEBcsID5IQHyAkPkBMeICc8QE54gJzwADnhAXLCA+SEB8gJD5ATHiAnPEBOeICc8AA54QFywgPkhAfICQ+QEx4gJzxATniAnPAAOeEBcsID5IQHyAkPkBMeICc8QE54gJzwADnhAXLCA+SEB8gJD5ATHiAnPEBOeICc8AA54QFywgPkhAfICQ+QEx4gJzxATniAnPAAOeEBcsID5IQHyAkPkBMeICc8QE54gJzwADnhAXLCA+SEB8gJD5ATHiAnPEBOeICc8AA54QFywgPkhAfICQ+QEx4gJzxATniAnPAAOeEBcsID5IQHyAkPkBMeICc8QE54gJzwADnhAXLCA+SEB8gJD5ATHiAnPEBOeICc8AA54QFywgPkhAfICQ+QEx4gJzxATniAnPAAOeEBcsID5IQHyAkPkBMeICc8QE54gJzwADnhAXLCA+SEB8gJD5ATHiAnPEBOeICc8AA54QFywgPkhAfICQ+QEx4gJzxATniAnPAAOeEBcsID5IQHyAkPkBMeICc8QE54gJzwADnhAXLCA+SEB8gJD5ATHiAnPEBOeICc8AA54QFywgPkhAfICQ+QEx4gJzxATniAnPAAOeEBcsID5IQHyAkPkBMeICc8QE54gJzwADnhAXLCA+SEB8gJD5ATHiAnPEBOeICc8AA54QFywgPkhAfICQ+QEx4gJzxATniAnPAAOeEBcsID5IQHyAkPkBMeICc8QE54gJzwADnhAXLCA+SEB8gJD5ATHiAnPEBOeICc8AA54QFywgPkhAfICQ+QEx4gJzxATniAnPAAOeEBcsID5IQHyAkPkBMeICc8QE54gJzwADnhAXLCA+SEB8gJD5ATHiAnPEBOeICc8AA54QFywgPkhAfICQ+QEx4gJzxATniAnPAAOeEBcsID5IQHyAkPkNun4cxUewA/4uIBcsID5IQHyAkPkBMeICc8QO4B6M8MOe4Qot8AAAAASUVORK5CYII=\n",
         "text/plain": "<Figure size 720x360 with 1 Axes>"
        },
        "metadata": {},
        "output_type": "display_data"
       }
      ]
     }
    },
    "398937fcbf6a4892bf05b142c12a433e": {
     "model_module": "@jupyter-widgets/output",
     "model_module_version": "1.0.0",
     "model_name": "OutputModel",
     "state": {
      "_dom_classes": [],
      "_model_module": "@jupyter-widgets/output",
      "_model_module_version": "1.0.0",
      "_model_name": "OutputModel",
      "_view_count": null,
      "_view_module": "@jupyter-widgets/output",
      "_view_module_version": "1.0.0",
      "_view_name": "OutputView",
      "layout": "IPY_MODEL_8dfeacee202b47f3912443345642fb5b",
      "msg_id": "",
      "outputs": [
       {
        "data": {
         "image/png": "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\n",
         "text/plain": "<Figure size 720x360 with 1 Axes>"
        },
        "metadata": {},
        "output_type": "display_data"
       },
       {
        "data": {
         "text/plain": "73"
        },
        "metadata": {},
        "output_type": "display_data"
       }
      ]
     }
    },
    "4007336df8fd4269964cc23ed7d8f40e": {
     "model_module": "@jupyter-widgets/base",
     "model_module_version": "1.2.0",
     "model_name": "LayoutModel",
     "state": {
      "_model_module": "@jupyter-widgets/base",
      "_model_module_version": "1.2.0",
      "_model_name": "LayoutModel",
      "_view_count": null,
      "_view_module": "@jupyter-widgets/base",
      "_view_module_version": "1.2.0",
      "_view_name": "LayoutView",
      "align_content": null,
      "align_items": null,
      "align_self": null,
      "border": null,
      "bottom": null,
      "display": null,
      "flex": null,
      "flex_flow": null,
      "grid_area": null,
      "grid_auto_columns": null,
      "grid_auto_flow": null,
      "grid_auto_rows": null,
      "grid_column": null,
      "grid_gap": null,
      "grid_row": null,
      "grid_template_areas": null,
      "grid_template_columns": null,
      "grid_template_rows": null,
      "height": null,
      "justify_content": null,
      "justify_items": null,
      "left": null,
      "margin": null,
      "max_height": null,
      "max_width": null,
      "min_height": null,
      "min_width": null,
      "object_fit": null,
      "object_position": null,
      "order": null,
      "overflow": null,
      "overflow_x": null,
      "overflow_y": null,
      "padding": null,
      "right": null,
      "top": null,
      "visibility": null,
      "width": null
     }
    },
    "4ba06ea1087c42bfa2f2469404287324": {
     "model_module": "@jupyter-widgets/base",
     "model_module_version": "1.2.0",
     "model_name": "LayoutModel",
     "state": {
      "_model_module": "@jupyter-widgets/base",
      "_model_module_version": "1.2.0",
      "_model_name": "LayoutModel",
      "_view_count": null,
      "_view_module": "@jupyter-widgets/base",
      "_view_module_version": "1.2.0",
      "_view_name": "LayoutView",
      "align_content": null,
      "align_items": null,
      "align_self": null,
      "border": null,
      "bottom": null,
      "display": null,
      "flex": null,
      "flex_flow": null,
      "grid_area": null,
      "grid_auto_columns": null,
      "grid_auto_flow": null,
      "grid_auto_rows": null,
      "grid_column": null,
      "grid_gap": null,
      "grid_row": null,
      "grid_template_areas": null,
      "grid_template_columns": null,
      "grid_template_rows": null,
      "height": null,
      "justify_content": null,
      "justify_items": null,
      "left": null,
      "margin": null,
      "max_height": null,
      "max_width": null,
      "min_height": null,
      "min_width": null,
      "object_fit": null,
      "object_position": null,
      "order": null,
      "overflow": null,
      "overflow_x": null,
      "overflow_y": null,
      "padding": null,
      "right": null,
      "top": null,
      "visibility": null,
      "width": null
     }
    },
    "50b16fb7b6e748aab25dd837b95ecee6": {
     "model_module": "@jupyter-widgets/base",
     "model_module_version": "1.2.0",
     "model_name": "LayoutModel",
     "state": {
      "_model_module": "@jupyter-widgets/base",
      "_model_module_version": "1.2.0",
      "_model_name": "LayoutModel",
      "_view_count": null,
      "_view_module": "@jupyter-widgets/base",
      "_view_module_version": "1.2.0",
      "_view_name": "LayoutView",
      "align_content": null,
      "align_items": null,
      "align_self": null,
      "border": null,
      "bottom": null,
      "display": null,
      "flex": null,
      "flex_flow": null,
      "grid_area": null,
      "grid_auto_columns": null,
      "grid_auto_flow": null,
      "grid_auto_rows": null,
      "grid_column": null,
      "grid_gap": null,
      "grid_row": null,
      "grid_template_areas": null,
      "grid_template_columns": null,
      "grid_template_rows": null,
      "height": null,
      "justify_content": null,
      "justify_items": null,
      "left": null,
      "margin": null,
      "max_height": null,
      "max_width": null,
      "min_height": null,
      "min_width": null,
      "object_fit": null,
      "object_position": null,
      "order": null,
      "overflow": null,
      "overflow_x": null,
      "overflow_y": null,
      "padding": null,
      "right": null,
      "top": null,
      "visibility": null,
      "width": null
     }
    },
    "8dfeacee202b47f3912443345642fb5b": {
     "model_module": "@jupyter-widgets/base",
     "model_module_version": "1.2.0",
     "model_name": "LayoutModel",
     "state": {
      "_model_module": "@jupyter-widgets/base",
      "_model_module_version": "1.2.0",
      "_model_name": "LayoutModel",
      "_view_count": null,
      "_view_module": "@jupyter-widgets/base",
      "_view_module_version": "1.2.0",
      "_view_name": "LayoutView",
      "align_content": null,
      "align_items": null,
      "align_self": null,
      "border": null,
      "bottom": null,
      "display": null,
      "flex": null,
      "flex_flow": null,
      "grid_area": null,
      "grid_auto_columns": null,
      "grid_auto_flow": null,
      "grid_auto_rows": null,
      "grid_column": null,
      "grid_gap": null,
      "grid_row": null,
      "grid_template_areas": null,
      "grid_template_columns": null,
      "grid_template_rows": null,
      "height": null,
      "justify_content": null,
      "justify_items": null,
      "left": null,
      "margin": null,
      "max_height": null,
      "max_width": null,
      "min_height": null,
      "min_width": null,
      "object_fit": null,
      "object_position": null,
      "order": null,
      "overflow": null,
      "overflow_x": null,
      "overflow_y": null,
      "padding": null,
      "right": null,
      "top": null,
      "visibility": null,
      "width": null
     }
    },
    "93a4902e0289476d9e880636568a4d2e": {
     "model_module": "@jupyter-widgets/controls",
     "model_module_version": "1.5.0",
     "model_name": "VBoxModel",
     "state": {
      "_dom_classes": [
       "widget-interact"
      ],
      "_model_module": "@jupyter-widgets/controls",
      "_model_module_version": "1.5.0",
      "_model_name": "VBoxModel",
      "_view_count": null,
      "_view_module": "@jupyter-widgets/controls",
      "_view_module_version": "1.5.0",
      "_view_name": "VBoxView",
      "box_style": "",
      "children": [
       "IPY_MODEL_dfc3f4d3d7c54667bb70a50043e0a1c6",
       "IPY_MODEL_e2a549c711ab4032b2a35991681c07cd",
       "IPY_MODEL_283561e27b174ecf8e0127af3895516c"
      ],
      "layout": "IPY_MODEL_50b16fb7b6e748aab25dd837b95ecee6"
     }
    },
    "aa0df94009554f0a83032a1290196136": {
     "model_module": "@jupyter-widgets/controls",
     "model_module_version": "1.5.0",
     "model_name": "ToggleButtonsStyleModel",
     "state": {
      "_model_module": "@jupyter-widgets/controls",
      "_model_module_version": "1.5.0",
      "_model_name": "ToggleButtonsStyleModel",
      "_view_count": null,
      "_view_module": "@jupyter-widgets/base",
      "_view_module_version": "1.2.0",
      "_view_name": "StyleView",
      "button_width": "",
      "description_width": "",
      "font_weight": ""
     }
    },
    "dd61c0bfb7634f96acfbeb9ac48f6100": {
     "model_module": "@jupyter-widgets/base",
     "model_module_version": "1.2.0",
     "model_name": "LayoutModel",
     "state": {
      "_model_module": "@jupyter-widgets/base",
      "_model_module_version": "1.2.0",
      "_model_name": "LayoutModel",
      "_view_count": null,
      "_view_module": "@jupyter-widgets/base",
      "_view_module_version": "1.2.0",
      "_view_name": "LayoutView",
      "align_content": null,
      "align_items": null,
      "align_self": null,
      "border": null,
      "bottom": null,
      "display": null,
      "flex": null,
      "flex_flow": null,
      "grid_area": null,
      "grid_auto_columns": null,
      "grid_auto_flow": null,
      "grid_auto_rows": null,
      "grid_column": null,
      "grid_gap": null,
      "grid_row": null,
      "grid_template_areas": null,
      "grid_template_columns": null,
      "grid_template_rows": null,
      "height": null,
      "justify_content": null,
      "justify_items": null,
      "left": null,
      "margin": null,
      "max_height": null,
      "max_width": null,
      "min_height": null,
      "min_width": null,
      "object_fit": null,
      "object_position": null,
      "order": null,
      "overflow": null,
      "overflow_x": null,
      "overflow_y": null,
      "padding": null,
      "right": null,
      "top": null,
      "visibility": null,
      "width": null
     }
    },
    "dfc3f4d3d7c54667bb70a50043e0a1c6": {
     "model_module": "@jupyter-widgets/controls",
     "model_module_version": "1.5.0",
     "model_name": "ToggleButtonsModel",
     "state": {
      "_dom_classes": [],
      "_model_module": "@jupyter-widgets/controls",
      "_model_module_version": "1.5.0",
      "_model_name": "ToggleButtonsModel",
      "_options_labels": [
       "Normal",
       "Edema",
       "Non-enhancing tumor",
       "Enhancing tumor"
      ],
      "_view_count": null,
      "_view_module": "@jupyter-widgets/controls",
      "_view_module_version": "1.5.0",
      "_view_name": "ToggleButtonsView",
      "button_style": "info",
      "description": "Select Class:",
      "description_tooltip": null,
      "disabled": false,
      "icons": [],
      "index": 0,
      "layout": "IPY_MODEL_e537e069fccb43c59f50532f1fa4d2c4",
      "style": "IPY_MODEL_aa0df94009554f0a83032a1290196136",
      "tooltips": []
     }
    },
    "e24b2d43426f46d4a3e10a1728c05f07": {
     "model_module": "@jupyter-widgets/controls",
     "model_module_version": "1.5.0",
     "model_name": "SliderStyleModel",
     "state": {
      "_model_module": "@jupyter-widgets/controls",
      "_model_module_version": "1.5.0",
      "_model_name": "SliderStyleModel",
      "_view_count": null,
      "_view_module": "@jupyter-widgets/base",
      "_view_module_version": "1.2.0",
      "_view_name": "StyleView",
      "description_width": "",
      "handle_color": null
     }
    },
    "e2a549c711ab4032b2a35991681c07cd": {
     "model_module": "@jupyter-widgets/controls",
     "model_module_version": "1.5.0",
     "model_name": "IntSliderModel",
     "state": {
      "_dom_classes": [],
      "_model_module": "@jupyter-widgets/controls",
      "_model_module_version": "1.5.0",
      "_model_name": "IntSliderModel",
      "_view_count": null,
      "_view_module": "@jupyter-widgets/controls",
      "_view_module_version": "1.5.0",
      "_view_name": "IntSliderView",
      "continuous_update": false,
      "description": "Select Layer",
      "description_tooltip": null,
      "disabled": false,
      "layout": "IPY_MODEL_4007336df8fd4269964cc23ed7d8f40e",
      "max": 154,
      "min": 0,
      "orientation": "horizontal",
      "readout": true,
      "readout_format": "d",
      "step": 1,
      "style": "IPY_MODEL_f03028b1ecae4c00bddc2548632e508d",
      "value": 0
     }
    },
    "e537e069fccb43c59f50532f1fa4d2c4": {
     "model_module": "@jupyter-widgets/base",
     "model_module_version": "1.2.0",
     "model_name": "LayoutModel",
     "state": {
      "_model_module": "@jupyter-widgets/base",
      "_model_module_version": "1.2.0",
      "_model_name": "LayoutModel",
      "_view_count": null,
      "_view_module": "@jupyter-widgets/base",
      "_view_module_version": "1.2.0",
      "_view_name": "LayoutView",
      "align_content": null,
      "align_items": null,
      "align_self": null,
      "border": null,
      "bottom": null,
      "display": null,
      "flex": null,
      "flex_flow": null,
      "grid_area": null,
      "grid_auto_columns": null,
      "grid_auto_flow": null,
      "grid_auto_rows": null,
      "grid_column": null,
      "grid_gap": null,
      "grid_row": null,
      "grid_template_areas": null,
      "grid_template_columns": null,
      "grid_template_rows": null,
      "height": null,
      "justify_content": null,
      "justify_items": null,
      "left": null,
      "margin": null,
      "max_height": null,
      "max_width": null,
      "min_height": null,
      "min_width": null,
      "object_fit": null,
      "object_position": null,
      "order": null,
      "overflow": null,
      "overflow_x": null,
      "overflow_y": null,
      "padding": null,
      "right": null,
      "top": null,
      "visibility": null,
      "width": null
     }
    },
    "e6ccbd424e0b478b9cc97600ca8e20b3": {
     "model_module": "@jupyter-widgets/controls",
     "model_module_version": "1.5.0",
     "model_name": "VBoxModel",
     "state": {
      "_dom_classes": [
       "widget-interact"
      ],
      "_model_module": "@jupyter-widgets/controls",
      "_model_module_version": "1.5.0",
      "_model_name": "VBoxModel",
      "_view_count": null,
      "_view_module": "@jupyter-widgets/controls",
      "_view_module_version": "1.5.0",
      "_view_name": "VBoxView",
      "box_style": "",
      "children": [
       "IPY_MODEL_fb1cf17f6fd34051a6775214c01735a2",
       "IPY_MODEL_398937fcbf6a4892bf05b142c12a433e"
      ],
      "layout": "IPY_MODEL_4ba06ea1087c42bfa2f2469404287324"
     }
    },
    "ef2a24916d234ca8937f5cbccdf4eb07": {
     "model_module": "@jupyter-widgets/base",
     "model_module_version": "1.2.0",
     "model_name": "LayoutModel",
     "state": {
      "_model_module": "@jupyter-widgets/base",
      "_model_module_version": "1.2.0",
      "_model_name": "LayoutModel",
      "_view_count": null,
      "_view_module": "@jupyter-widgets/base",
      "_view_module_version": "1.2.0",
      "_view_name": "LayoutView",
      "align_content": null,
      "align_items": null,
      "align_self": null,
      "border": null,
      "bottom": null,
      "display": null,
      "flex": null,
      "flex_flow": null,
      "grid_area": null,
      "grid_auto_columns": null,
      "grid_auto_flow": null,
      "grid_auto_rows": null,
      "grid_column": null,
      "grid_gap": null,
      "grid_row": null,
      "grid_template_areas": null,
      "grid_template_columns": null,
      "grid_template_rows": null,
      "height": null,
      "justify_content": null,
      "justify_items": null,
      "left": null,
      "margin": null,
      "max_height": null,
      "max_width": null,
      "min_height": null,
      "min_width": null,
      "object_fit": null,
      "object_position": null,
      "order": null,
      "overflow": null,
      "overflow_x": null,
      "overflow_y": null,
      "padding": null,
      "right": null,
      "top": null,
      "visibility": null,
      "width": null
     }
    },
    "f03028b1ecae4c00bddc2548632e508d": {
     "model_module": "@jupyter-widgets/controls",
     "model_module_version": "1.5.0",
     "model_name": "SliderStyleModel",
     "state": {
      "_model_module": "@jupyter-widgets/controls",
      "_model_module_version": "1.5.0",
      "_model_name": "SliderStyleModel",
      "_view_count": null,
      "_view_module": "@jupyter-widgets/base",
      "_view_module_version": "1.2.0",
      "_view_name": "StyleView",
      "description_width": "",
      "handle_color": null
     }
    },
    "fb1cf17f6fd34051a6775214c01735a2": {
     "model_module": "@jupyter-widgets/controls",
     "model_module_version": "1.5.0",
     "model_name": "IntSliderModel",
     "state": {
      "_dom_classes": [],
      "_model_module": "@jupyter-widgets/controls",
      "_model_module_version": "1.5.0",
      "_model_name": "IntSliderModel",
      "_view_count": null,
      "_view_module": "@jupyter-widgets/controls",
      "_view_module_version": "1.5.0",
      "_view_name": "IntSliderView",
      "continuous_update": true,
      "description": "layer",
      "description_tooltip": null,
      "disabled": false,
      "layout": "IPY_MODEL_dd61c0bfb7634f96acfbeb9ac48f6100",
      "max": 154,
      "min": 0,
      "orientation": "horizontal",
      "readout": true,
      "readout_format": "d",
      "step": 1,
      "style": "IPY_MODEL_e24b2d43426f46d4a3e10a1728c05f07",
      "value": 71
     }
    }
   }
  }
 },
 "nbformat": 4,
 "nbformat_minor": 4
}
